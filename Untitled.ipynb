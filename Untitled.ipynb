{
 "cells": [
  {
   "cell_type": "code",
   "execution_count": 1,
   "id": "605ae782-da8a-4371-a32e-43179d05a0f8",
   "metadata": {},
   "outputs": [
    {
     "name": "stdout",
     "output_type": "stream",
     "text": [
      "Requirement already satisfied: opencv-python in c:\\users\\ainur\\appdata\\local\\programs\\python\\python310\\lib\\site-packages (4.11.0.86)\n",
      "Requirement already satisfied: numpy>=1.21.2 in c:\\users\\ainur\\appdata\\local\\programs\\python\\python310\\lib\\site-packages (from opencv-python) (2.2.0)\n"
     ]
    },
    {
     "name": "stderr",
     "output_type": "stream",
     "text": [
      "WARNING: Ignoring invalid distribution -upyterlab (c:\\users\\ainur\\appdata\\local\\programs\\python\\python310\\lib\\site-packages)\n",
      "WARNING: Ignoring invalid distribution -upyterlab (c:\\users\\ainur\\appdata\\local\\programs\\python\\python310\\lib\\site-packages)\n",
      "WARNING: Ignoring invalid distribution -upyterlab (c:\\users\\ainur\\appdata\\local\\programs\\python\\python310\\lib\\site-packages)\n"
     ]
    }
   ],
   "source": [
    "!pip install opencv-python"
   ]
  },
  {
   "cell_type": "code",
   "execution_count": 2,
   "id": "8ccdcb1a-d170-416f-bbbb-cf91aa319e5e",
   "metadata": {},
   "outputs": [],
   "source": [
    "import cv2\n",
    "import os\n",
    "\n",
    "def extract_frames_from_video_segment(video_path, start_time, end_time, output_dir, frame_rate=None):\n",
    "    \"\"\"\n",
    "    Извлекает кадры из определенной части видео.\n",
    "\n",
    "    Args:\n",
    "        video_path (str): Путь к видеофайлу.\n",
    "        start_time (float): Начальное время в секундах.\n",
    "        end_time (float): Конечное время в секундах.\n",
    "        output_dir (str): Директория для сохранения кадров.\n",
    "        frame_rate (float, optional): Частота кадров. Если не указана,\n",
    "                                      используется частота видео.\n",
    "    \"\"\"\n",
    "\n",
    "    # Проверка существования директории\n",
    "    if not os.path.exists(output_dir):\n",
    "        os.makedirs(output_dir)\n",
    "\n",
    "    # Открытие видеофайла\n",
    "    video_capture = cv2.VideoCapture(video_path)\n",
    "\n",
    "    if not video_capture.isOpened():\n",
    "        print(f\"Ошибка открытия видео: {video_path}\")\n",
    "        return\n",
    "\n",
    "    # Определение частоты кадров\n",
    "    if frame_rate is None:\n",
    "        frame_rate = video_capture.get(cv2.CAP_PROP_FPS)\n",
    "    # Преобразование времени в кадры\n",
    "    start_frame = int(start_time * frame_rate)\n",
    "    end_frame = int(end_time * frame_rate)\n",
    "\n",
    "    # Перемещение к начальному кадру\n",
    "    video_capture.set(cv2.CAP_PROP_POS_FRAMES, start_frame)\n",
    "    current_frame = start_frame\n",
    "\n",
    "    while True:\n",
    "        ret, frame = video_capture.read()\n",
    "\n",
    "        if not ret or current_frame > end_frame:\n",
    "            break\n",
    "\n",
    "        # Формирование имени файла\n",
    "        file_name = os.path.splitext(os.path.basename(video_path))[0]\n",
    "        output_path = os.path.join(output_dir, file_name+\"_\"+str(current_frame)+\".jpg\")\n",
    "        # Сохранение кадра\n",
    "        cv2.imwrite(output_path, frame)\n",
    "\n",
    "\n",
    "        current_frame += 1\n",
    "\n",
    "    video_capture.release()"
   ]
  },
  {
   "cell_type": "code",
   "execution_count": 3,
   "id": "b55f9a66-41a0-47e6-aef0-414faccd87d8",
   "metadata": {},
   "outputs": [],
   "source": [
    "import json"
   ]
  },
  {
   "cell_type": "code",
   "execution_count": 4,
   "id": "716762b5-f68a-4945-bd6d-5a38bab97b2a",
   "metadata": {},
   "outputs": [
    {
     "data": {
      "text/plain": [
       "102"
      ]
     },
     "execution_count": 4,
     "metadata": {},
     "output_type": "execute_result"
    }
   ],
   "source": [
    "timings_train = \"D:/Айнур/ML/OP_searching/labels_json/train_labels.json\"\n",
    "with open(timings_train, 'r',encoding='utf-8') as fcc_file: \n",
    "    fcc_data = json.load(fcc_file)\n",
    "    #print(json.dumps(fcc_data, indent=4))\n",
    "\n",
    "def get_sec(time_str):\n",
    "    h, m, s = time_str.split(':')\n",
    "    return int(h) * 3600 + int(m) * 60 + int(s)\n",
    "get_sec(fcc_data[\"-220020068_456255414\"][\"start\"])"
   ]
  },
  {
   "cell_type": "code",
   "execution_count": 5,
   "id": "515d316a-6a23-4a54-8c1f-809d09efa0e2",
   "metadata": {},
   "outputs": [],
   "source": [
    "def get_subdirectories(directory):\n",
    "    return [name for name in os.listdir(directory) if os.path.isdir(os.path.join(directory, name))]\n",
    "\n",
    "video_dirs_list = get_subdirectories('D:/Айнур/ML/OP_searching/data_train_short/')"
   ]
  },
  {
   "cell_type": "code",
   "execution_count": 10,
   "id": "9d43cc7f-2aa3-4e51-a1dd-cfbc50959612",
   "metadata": {},
   "outputs": [],
   "source": [
    "for i in fcc_data:\n",
    "    file_name = os.listdir('D:/Айнур/ML/OP_searching/data_train_short/'+i)\n",
    "    start_time = int(get_sec(fcc_data[i][\"start\"]))\n",
    "    end_time = int(get_sec(fcc_data[i][\"end\"]))\n",
    "    duration = end_time - start_time\n",
    "    #extract_frames_from_video_segment('D:/Айнур/ML/OP_searching/data_train_short/'+i+\"/\"+file_name[0], start_time, end_time, \"output_frames\")\n",
    "    extract_frames_from_video_segment('D:/Айнур/ML/OP_searching/data_train_short/'+i+\"/\"+file_name[0], end_time+1, end_time+1+duration, \"output_frames_not_OP\")"
   ]
  }
 ],
 "metadata": {
  "kernelspec": {
   "display_name": "Python 3 (ipykernel)",
   "language": "python",
   "name": "python3"
  },
  "language_info": {
   "codemirror_mode": {
    "name": "ipython",
    "version": 3
   },
   "file_extension": ".py",
   "mimetype": "text/x-python",
   "name": "python",
   "nbconvert_exporter": "python",
   "pygments_lexer": "ipython3",
   "version": "3.10.11"
  }
 },
 "nbformat": 4,
 "nbformat_minor": 5
}
